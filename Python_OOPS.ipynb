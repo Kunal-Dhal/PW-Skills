{
 "cells": [
  {
   "cell_type": "markdown",
   "id": "f668f567",
   "metadata": {},
   "source": [
    "                              ___THEORY QUESTIONS___\n",
    "\n",
    "1. What is Object-Oriented Programming (OOP)?\n",
    "Answer:\n",
    "OOP is a programming paradigm based on the concept of objects. Objects represent real-world entities and are created from classes. OOP promotes modularity, reusability, and abstraction through key concepts like inheritance, encapsulation, polymorphism, and abstraction.\n",
    "\n",
    "2. What is a class in OOP?\n",
    "Answer:\n",
    "A class is a blueprint or template for creating objects. It defines attributes (variables) and methods (functions) that its objects can use.\n",
    "\n",
    "3. What is an object in OOP?\n",
    "Answer:\n",
    "An object is an instance of a class. It holds real data and can use the methods defined in the class.\n",
    "\n",
    "4. What is the difference between abstraction and encapsulation?\n",
    "Answer:\n",
    "\n",
    "Abstraction hides implementation details and shows only functionality.\n",
    "\n",
    "Encapsulation hides the internal state and enforces access through methods.\n",
    "\n",
    "5. What are dunder methods in Python?\n",
    "Answer:\n",
    "Dunder (double underscore) methods are special methods like __init__, __str__, __len__, used to define behavior for built-in operations.\n",
    "\n",
    "6. Explain the concept of inheritance in OOP.\n",
    "Answer:\n",
    "Inheritance allows a class (child) to inherit attributes and methods from another class (parent).\n",
    "\n",
    "7. What is polymorphism in OOP?\n",
    "Answer:\n",
    "Polymorphism means \"many forms.\" It allows different classes to be treated through the same interface.\n",
    "\n",
    "8. How is encapsulation achieved in Python?\n",
    "Answer:\n",
    "Using private (__var) or protected (_var) attributes and accessing them via getter/setter methods.\n",
    "\n",
    "9. What is a constructor in Python?\n",
    "Answer:\n",
    "A constructor is a special method (__init__) that initializes new objects when a class is instantiated.\n",
    "\n",
    "10. What are class and static methods in Python?\n",
    "Answer:\n",
    "\n",
    "Class method: Defined with @classmethod, takes cls as the first parameter and affects the class as a whole.\n",
    "\n",
    "Static method: Defined with @staticmethod, does not take self or cls and behaves like a regular function inside a class.\n",
    "\n",
    "11. What is method overloading in Python?\n",
    "Answer:\n",
    "Python does not support traditional method overloading. However, similar functionality can be achieved using default arguments or *args/**kwargs.\n",
    "\n",
    "12. What is method overriding in OOP?\n",
    "Answer:\n",
    "Method overriding occurs when a subclass provides a specific implementation of a method already defined in its superclass.\n",
    "\n",
    "13. What is a property decorator in Python?\n",
    "Answer:\n",
    "The @property decorator is used to define a method as a property so that it can be accessed like an attribute.\n",
    "\n",
    "14. Why is polymorphism important in OOP?\n",
    "Answer:\n",
    "It enhances flexibility and scalability, allowing functions to handle objects of different classes seamlessly without modifying the function logic.\n",
    "\n",
    "15. What is an abstract class in Python?\n",
    "Answer:\n",
    "An abstract class cannot be instantiated and may contain abstract methods that must be implemented by subclasses. It is defined using the abc module.\n",
    "\n",
    "16. What are the advantages of OOP?\n",
    "Answer:\n",
    "\n",
    "Code reusability through inheritance\n",
    "\n",
    "Improved code organization\n",
    "\n",
    "Easier maintenance\n",
    "\n",
    "Encapsulation enhances security\n",
    "\n",
    "Supports abstraction and polymorphism\n",
    "\n",
    "17. What is the difference between a class variable and an instance variable?\n",
    "Answer:\n",
    "\n",
    "Class variable: Shared across all instances of a class.\n",
    "\n",
    "Instance variable: Unique to each object instance.\n",
    "\n",
    "18. What is multiple inheritance in Python?\n",
    "Answer:\n",
    "Multiple inheritance is when a class inherits from more than one parent class, allowing it to access attributes and methods of all parent classes.\n",
    "\n",
    "19. Explain the purpose of __str__ and __repr__ methods in Python.\n",
    "Answer:\n",
    "\n",
    "__str__ provides a readable string representation for end users.\n",
    "\n",
    "__repr__ provides a detailed and unambiguous string used mostly for debugging and development.\n",
    "\n",
    "20. What is the significance of the super() function in Python?\n",
    "Answer:\n",
    "super() allows access to methods of a parent class, enabling method extension or overriding without explicitly naming the parent class.\n",
    "\n",
    "21. What is the significance of the __del__ method in Python?\n",
    "Answer:\n",
    "The __del__ method is a destructor that is called when an object is about to be destroyed, often used for cleanup operations.\n",
    "\n",
    "22. What is the difference between @staticmethod and @classmethod in Python?\n",
    "Answer:\n",
    "\n",
    "@staticmethod: No access to class or instance. Acts like a regular function.\n",
    "\n",
    "@classmethod: Has access to the class (cls) and can modify class-level state.\n",
    "\n",
    "23. How does polymorphism work in Python with inheritance?\n",
    "Answer:\n",
    "Polymorphism allows methods in different subclasses to have the same name as those in the superclass, with behavior defined specifically in each subclass.\n",
    "\n",
    "24. What is method chaining in Python OOP?\n",
    "Answer:\n",
    "Method chaining is a technique where each method returns self, allowing multiple methods to be called in a single line on the same object.\n",
    "\n",
    "25. What is the purpose of the __call__ method in Python?\n",
    "Answer:\n",
    "The __call__ method allows an object to be called as a function, providing flexibility for callable object behavior.\n",
    "\n"
   ]
  },
  {
   "cell_type": "markdown",
   "id": "d43f08f4",
   "metadata": {},
   "source": [
    "                           ________PRACTICAL QUESTIONS_______"
   ]
  },
  {
   "cell_type": "code",
   "execution_count": 1,
   "id": "e783b5d8",
   "metadata": {},
   "outputs": [
    {
     "name": "stdout",
     "output_type": "stream",
     "text": [
      "Bark!\n"
     ]
    }
   ],
   "source": [
    "# 1. Create a parent class Animal with a method speak() that prints a generic message. Create a child class Dog that overrides the speak() method to print \"Bark!\".\n",
    "class Animal:\n",
    "    def speak(self):\n",
    "        print(\"The animal makes a sound\")\n",
    "\n",
    "class Dog(Animal):\n",
    "    def speak(self):\n",
    "        print(\"Bark!\")\n",
    "\n",
    "dog = Dog()\n",
    "dog.speak()\n"
   ]
  },
  {
   "cell_type": "code",
   "execution_count": 4,
   "id": "d87ec471",
   "metadata": {},
   "outputs": [
    {
     "name": "stdout",
     "output_type": "stream",
     "text": [
      "78.5\n",
      "24\n"
     ]
    }
   ],
   "source": [
    "# 2. Write a program to create an abstract class Shape with a method area(). Derive classes Circle and Rectangle from it and implement the area() method in both.\n",
    "\n",
    "from abc import ABC, abstractmethod\n",
    "\n",
    "class Shape(ABC):\n",
    "    @abstractmethod\n",
    "    def area(self):\n",
    "        pass\n",
    "\n",
    "class Circle(Shape):\n",
    "    def __init__(self, radius):\n",
    "        self.radius = radius\n",
    "\n",
    "    def area(self):\n",
    "        return 3.14 * self.radius * self.radius\n",
    "\n",
    "class Rectangle(Shape):\n",
    "    def __init__(self, width, height):\n",
    "        self.width = width\n",
    "        self.height = height\n",
    "\n",
    "    def area(self):\n",
    "        return self.width * self.height\n",
    "\n",
    "circle = Circle(5)\n",
    "rectangle = Rectangle(4, 6)\n",
    "print(circle.area())\n",
    "print(rectangle.area())\n"
   ]
  },
  {
   "cell_type": "code",
   "execution_count": 5,
   "id": "a9e2f130",
   "metadata": {},
   "outputs": [
    {
     "name": "stdout",
     "output_type": "stream",
     "text": [
      "Electric Tesla 85kWh\n"
     ]
    }
   ],
   "source": [
    "#3. Implement a multi-level inheritance scenario where a class Vehicle has an attribute type. Derive a class Car and further derive a class ElectricCar that adds a battery attribute.\n",
    "\n",
    "class Vehicle:\n",
    "    def __init__(self, type):\n",
    "        self.type = type\n",
    "\n",
    "class Car(Vehicle):\n",
    "    def __init__(self, type, brand):\n",
    "        super().__init__(type)\n",
    "        self.brand = brand\n",
    "\n",
    "class ElectricCar(Car):\n",
    "    def __init__(self, type, brand, battery):\n",
    "        super().__init__(type, brand)\n",
    "        self.battery = battery\n",
    "\n",
    "ecar = ElectricCar(\"Electric\", \"Tesla\", \"85kWh\")\n",
    "print(ecar.type, ecar.brand, ecar.battery)\n"
   ]
  },
  {
   "cell_type": "code",
   "execution_count": 6,
   "id": "82986366",
   "metadata": {},
   "outputs": [
    {
     "name": "stdout",
     "output_type": "stream",
     "text": [
      "Sparrow flies high\n",
      "Penguins can't fly\n"
     ]
    }
   ],
   "source": [
    "#4. Demonstrate polymorphism by creating a base class Bird with a method fly(). Create two derived classes Sparrow and Penguin that override the fly() method.\n",
    "\n",
    "class Bird:\n",
    "    def fly(self):\n",
    "        print(\"Some birds can fly\")\n",
    "\n",
    "class Sparrow(Bird):\n",
    "    def fly(self):\n",
    "        print(\"Sparrow flies high\")\n",
    "\n",
    "class Penguin(Bird):\n",
    "    def fly(self):\n",
    "        print(\"Penguins can't fly\")\n",
    "\n",
    "birds = [Sparrow(), Penguin()]\n",
    "for bird in birds:\n",
    "    bird.fly()\n"
   ]
  },
  {
   "cell_type": "code",
   "execution_count": 7,
   "id": "3b7ac315",
   "metadata": {},
   "outputs": [
    {
     "name": "stdout",
     "output_type": "stream",
     "text": [
      "500\n"
     ]
    }
   ],
   "source": [
    "# 5. Write a program to demonstrate encapsulation by creating a class BankAccount with private attributes balance and methods to deposit, withdraw, and check balance.\n",
    "\n",
    "class BankAccount:\n",
    "    def __init__(self):\n",
    "        self.__balance = 0\n",
    "\n",
    "    def deposit(self, amount):\n",
    "        self.__balance += amount\n",
    "\n",
    "    def withdraw(self, amount):\n",
    "        if amount <= self.__balance:\n",
    "            self.__balance -= amount\n",
    "        else:\n",
    "            print(\"Insufficient funds\")\n",
    "\n",
    "    def get_balance(self):\n",
    "        return self.__balance\n",
    "\n",
    "account = BankAccount()\n",
    "account.deposit(1000)\n",
    "account.withdraw(500)\n",
    "print(account.get_balance())\n"
   ]
  },
  {
   "cell_type": "code",
   "execution_count": 8,
   "id": "0c8ce9a4",
   "metadata": {},
   "outputs": [
    {
     "name": "stdout",
     "output_type": "stream",
     "text": [
      "Strumming guitar\n",
      "Playing piano\n"
     ]
    }
   ],
   "source": [
    "#6. Demonstrate runtime polymorphism using a method play() in a base class Instrument. Derive classes Guitar and Piano that implement their own version of play().\n",
    "\n",
    "class Instrument:\n",
    "    def play(self):\n",
    "        print(\"Playing instrument\")\n",
    "\n",
    "class Guitar(Instrument):\n",
    "    def play(self):\n",
    "        print(\"Strumming guitar\")\n",
    "\n",
    "class Piano(Instrument):\n",
    "    def play(self):\n",
    "        print(\"Playing piano\")\n",
    "\n",
    "for instrument in (Guitar(), Piano()):\n",
    "    instrument.play()\n"
   ]
  },
  {
   "cell_type": "code",
   "execution_count": 9,
   "id": "51ea4d6f",
   "metadata": {},
   "outputs": [
    {
     "name": "stdout",
     "output_type": "stream",
     "text": [
      "15\n",
      "5\n"
     ]
    }
   ],
   "source": [
    "#7. Create a class MathOperations with a class method add_numbers() to add two numbers and a static method subtract_numbers() to subtract two numbers.\n",
    "\n",
    "class MathOperations:\n",
    "    @classmethod\n",
    "    def add_numbers(cls, a, b):\n",
    "        return a + b\n",
    "\n",
    "    @staticmethod\n",
    "    def subtract_numbers(a, b):\n",
    "        return a - b\n",
    "\n",
    "print(MathOperations.add_numbers(10, 5))\n",
    "print(MathOperations.subtract_numbers(10, 5))\n"
   ]
  },
  {
   "cell_type": "code",
   "execution_count": 10,
   "id": "4648c57c",
   "metadata": {},
   "outputs": [
    {
     "name": "stdout",
     "output_type": "stream",
     "text": [
      "2\n"
     ]
    }
   ],
   "source": [
    "#8. Implement a class Person with a class method to count the total number of persons created.\n",
    "\n",
    "class Person:\n",
    "    count = 0\n",
    "\n",
    "    def __init__(self):\n",
    "        Person.count += 1\n",
    "\n",
    "    @classmethod\n",
    "    def total_persons(cls):\n",
    "        return cls.count\n",
    "\n",
    "p1 = Person()\n",
    "p2 = Person()\n",
    "print(Person.total_persons())\n"
   ]
  },
  {
   "cell_type": "code",
   "execution_count": 11,
   "id": "2343a6b5",
   "metadata": {},
   "outputs": [
    {
     "name": "stdout",
     "output_type": "stream",
     "text": [
      "3/4\n"
     ]
    }
   ],
   "source": [
    "#9. Write a class Fraction with attributes numerator and denominator. Override the __str__ method to display the fraction as \"numerator/denominator\"\n",
    "\n",
    "class Fraction:\n",
    "    def __init__(self, numerator, denominator):\n",
    "        self.numerator = numerator\n",
    "        self.denominator = denominator\n",
    "\n",
    "    def __str__(self):\n",
    "        return f\"{self.numerator}/{self.denominator}\"\n",
    "\n",
    "frac = Fraction(3, 4)\n",
    "print(frac)\n"
   ]
  },
  {
   "cell_type": "code",
   "execution_count": 12,
   "id": "39ffce0b",
   "metadata": {},
   "outputs": [
    {
     "name": "stdout",
     "output_type": "stream",
     "text": [
      "Vector(3, 7)\n"
     ]
    }
   ],
   "source": [
    "#10. Demonstrate operator overloading by creating a class Vector and overriding the + operator to add two vectors.\n",
    "\n",
    "class Vector:\n",
    "    def __init__(self, x, y):\n",
    "        self.x = x\n",
    "        self.y = y\n",
    "\n",
    "    def __add__(self, other):\n",
    "        return Vector(self.x + other.x, self.y + other.y)\n",
    "\n",
    "    def __str__(self):\n",
    "        return f\"Vector({self.x}, {self.y})\"\n",
    "\n",
    "v1 = Vector(2, 3)\n",
    "v2 = Vector(1, 4)\n",
    "print(v1 + v2)\n"
   ]
  },
  {
   "cell_type": "code",
   "execution_count": 13,
   "id": "7531e753",
   "metadata": {},
   "outputs": [
    {
     "name": "stdout",
     "output_type": "stream",
     "text": [
      "Hello, my name is Alice and I am 30 years old.\n"
     ]
    }
   ],
   "source": [
    "#11. Create a class Person with attributes name and age. Add a method greet() that prints a message.\n",
    "\n",
    "class Person:\n",
    "    def __init__(self, name, age):\n",
    "        self.name = name\n",
    "        self.age = age\n",
    "\n",
    "    def greet(self):\n",
    "        print(f\"Hello, my name is {self.name} and I am {self.age} years old.\")\n",
    "\n",
    "p = Person(\"Alice\", 30)\n",
    "p.greet()\n"
   ]
  },
  {
   "cell_type": "code",
   "execution_count": 14,
   "id": "19297971",
   "metadata": {},
   "outputs": [
    {
     "name": "stdout",
     "output_type": "stream",
     "text": [
      "84.33333333333333\n"
     ]
    }
   ],
   "source": [
    "#12. Implement a class Student with attributes name and grades. Create a method average_grade() to compute the average of the grades.\n",
    "\n",
    "class Student:\n",
    "    def __init__(self, name, grades):\n",
    "        self.name = name\n",
    "        self.grades = grades\n",
    "\n",
    "    def average_grade(self):\n",
    "        return sum(self.grades) / len(self.grades)\n",
    "\n",
    "s = Student(\"John\", [85, 90, 78])\n",
    "print(s.average_grade())\n"
   ]
  },
  {
   "cell_type": "code",
   "execution_count": 15,
   "id": "a4b9230a",
   "metadata": {},
   "outputs": [
    {
     "name": "stdout",
     "output_type": "stream",
     "text": [
      "20\n"
     ]
    }
   ],
   "source": [
    "#13. Create a class Rectangle with methods set_dimensions() and area() to calculate the area.\n",
    "\n",
    "class Rectangle:\n",
    "    def set_dimensions(self, width, height):\n",
    "        self.width = width\n",
    "        self.height = height\n",
    "\n",
    "    def area(self):\n",
    "        return self.width * self.height\n",
    "\n",
    "r = Rectangle()\n",
    "r.set_dimensions(5, 4)\n",
    "print(r.area())\n"
   ]
  },
  {
   "cell_type": "code",
   "execution_count": 16,
   "id": "5f3c5778",
   "metadata": {},
   "outputs": [
    {
     "name": "stdout",
     "output_type": "stream",
     "text": [
      "2500\n"
     ]
    }
   ],
   "source": [
    "#14. Create a class Employee with a method calculate_salary(). Create a derived class Manager that adds a bonus to the salary.\n",
    "\n",
    "class Employee:\n",
    "    def calculate_salary(self, hours, rate):\n",
    "        return hours * rate\n",
    "\n",
    "class Manager(Employee):\n",
    "    def calculate_salary(self, hours, rate, bonus):\n",
    "        return super().calculate_salary(hours, rate) + bonus\n",
    "\n",
    "m = Manager()\n",
    "print(m.calculate_salary(40, 50, 500))\n"
   ]
  },
  {
   "cell_type": "code",
   "execution_count": 17,
   "id": "360a8b1f",
   "metadata": {},
   "outputs": [
    {
     "name": "stdout",
     "output_type": "stream",
     "text": [
      "2000\n"
     ]
    }
   ],
   "source": [
    "#15. Create a class Product with attributes and method total_price() to calculate total price.\n",
    "\n",
    "class Product:\n",
    "    def __init__(self, name, price, quantity):\n",
    "        self.name = name\n",
    "        self.price = price\n",
    "        self.quantity = quantity\n",
    "\n",
    "    def total_price(self):\n",
    "        return self.price * self.quantity\n",
    "\n",
    "p = Product(\"Laptop\", 1000, 2)\n",
    "print(p.total_price())\n",
    "\n"
   ]
  },
  {
   "cell_type": "code",
   "execution_count": 19,
   "id": "c91b70a9",
   "metadata": {},
   "outputs": [
    {
     "name": "stdout",
     "output_type": "stream",
     "text": [
      "Moo\n",
      "Baa\n"
     ]
    }
   ],
   "source": [
    "#16. Create a class Animal with an abstract method sound(). Create derived classes Cow and Sheep.\n",
    "\n",
    "from abc import ABC, abstractmethod\n",
    "\n",
    "class Animal(ABC):\n",
    "    @abstractmethod\n",
    "    def sound(self):\n",
    "        pass\n",
    "\n",
    "class Cow(Animal):\n",
    "    def sound(self):\n",
    "        print(\"Moo\")\n",
    "\n",
    "class Sheep(Animal):\n",
    "    def sound(self):\n",
    "        print(\"Baa\")\n",
    "\n",
    "animals = [Cow(), Sheep()]\n",
    "for animal in animals:\n",
    "    animal.sound()\n"
   ]
  },
  {
   "cell_type": "code",
   "execution_count": 20,
   "id": "6b83f10f",
   "metadata": {},
   "outputs": [
    {
     "name": "stdout",
     "output_type": "stream",
     "text": [
      "1984 by George Orwell (1949)\n"
     ]
    }
   ],
   "source": [
    "#17. Create a class Book with attributes title, author, and year_published. Add a method get_book_info(\n",
    "\n",
    "class Book:\n",
    "    def __init__(self, title, author, year_published):\n",
    "        self.title = title\n",
    "        self.author = author\n",
    "        self.year = year_published\n",
    "\n",
    "    def get_book_info(self):\n",
    "        return f\"{self.title} by {self.author} ({self.year})\"\n",
    "\n",
    "b = Book(\"1984\", \"George Orwell\", 1949)\n",
    "print(b.get_book_info())\n"
   ]
  },
  {
   "cell_type": "code",
   "execution_count": 21,
   "id": "ef3711e3",
   "metadata": {},
   "outputs": [
    {
     "name": "stdout",
     "output_type": "stream",
     "text": [
      "123 Palm Street 500000 10\n"
     ]
    }
   ],
   "source": [
    "#18. Create a class House with attributes address and price. Create a derived class Mansion that adds number_of_rooms.\n",
    "\n",
    "class House:\n",
    "    def __init__(self, address, price):\n",
    "        self.address = address\n",
    "        self.price = price\n",
    "\n",
    "class Mansion(House):\n",
    "    def __init__(self, address, price, number_of_rooms):\n",
    "        super().__init__(address, price)\n",
    "        self.number_of_rooms = number_of_rooms\n",
    "\n",
    "m = Mansion(\"123 Palm Street\", 500000, 10)\n",
    "print(m.address, m.price, m.number_of_rooms)\n",
    "\n"
   ]
  },
  {
   "cell_type": "markdown",
   "id": "a79e1ddc",
   "metadata": {},
   "source": [
    "                        ______THANK YOU FOR YOUR TIME!______"
   ]
  }
 ],
 "metadata": {
  "kernelspec": {
   "display_name": "Python 3",
   "language": "python",
   "name": "python3"
  },
  "language_info": {
   "codemirror_mode": {
    "name": "ipython",
    "version": 3
   },
   "file_extension": ".py",
   "mimetype": "text/x-python",
   "name": "python",
   "nbconvert_exporter": "python",
   "pygments_lexer": "ipython3",
   "version": "3.13.1"
  }
 },
 "nbformat": 4,
 "nbformat_minor": 5
}
