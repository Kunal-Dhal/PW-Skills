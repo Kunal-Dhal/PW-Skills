{
 "cells": [
  {
   "cell_type": "markdown",
   "id": "f7d7179c",
   "metadata": {},
   "source": [
    "# Probability and Statistics: Questions and Answers"
   ]
  },
  {
   "cell_type": "markdown",
   "id": "37f6481e",
   "metadata": {},
   "source": [
    "### 1. What is a random variable in probability theory?\n",
    "**Answer:**\n",
    "A random variable is a numerical value associated with the outcome of a random experiment.\n",
    "**Explanation:** For example, if you flip a coin, you can define a random variable X that assigns 1 for heads and 0 for tails. It helps us quantify randomness."
   ]
  },
  {
   "cell_type": "markdown",
   "id": "af12c168",
   "metadata": {},
   "source": [
    "### 2. What are the types of random variables?\n",
    "**Answer:**\n",
    "There are two types:\n",
    "- Discrete random variables (countable outcomes like 1, 2, 3).\n",
    "- Continuous random variables (uncountable outcomes like time, weight, or height).\n",
    "**Explanation:** Discrete values are separate (e.g., number of students), while continuous values come from measurements (e.g., temperature)."
   ]
  },
  {
   "cell_type": "markdown",
   "id": "993aa77d",
   "metadata": {},
   "source": [
    "### 3. What is the difference between discrete and continuous distributions?\n",
    "**Answer:**\n",
    "- Discrete distributions deal with specific, countable values (e.g., rolling a die).\n",
    "- Continuous distributions describe probabilities over intervals (e.g., time to complete a task).\n",
    "**Explanation:** A discrete distribution has a probability mass function (PMF), while a continuous one has a probability density function (PDF)."
   ]
  },
  {
   "cell_type": "markdown",
   "id": "9c2f0f98",
   "metadata": {},
   "source": [
    "### 4. What are probability distribution functions (PDF)?\n",
    "**Answer:**\n",
    "A PDF describes the likelihood of a continuous random variable taking a particular value.\n",
    "**Explanation:** While the value at a single point in continuous distributions is 0, the area under the curve between two values gives the probability."
   ]
  },
  {
   "cell_type": "markdown",
   "id": "6d4eb71f",
   "metadata": {},
   "source": [
    "### 5. How do cumulative distribution functions (CDF) differ from PDFs?\n",
    "**Answer:**\n",
    "The CDF gives the probability that a random variable is less than or equal to a certain value.\n",
    "**Explanation:** It accumulates probabilities from the left and increases as the value increases, while the PDF shows the density at individual points."
   ]
  },
  {
   "cell_type": "markdown",
   "id": "2cb87d38",
   "metadata": {},
   "source": [
    "### 6. What is a discrete uniform distribution?\n",
    "**Answer:**\n",
    "All outcomes have equal probability.\n",
    "**Explanation:** For example, when rolling a fair die, each number from 1 to 6 has an equal chance (1/6) of appearing."
   ]
  },
  {
   "cell_type": "markdown",
   "id": "eefeacfa",
   "metadata": {},
   "source": [
    "### 7. What are the key properties of a Bernoulli distribution?\n",
    "**Answer:**\n",
    "- Two outcomes: success (1) and failure (0).\n",
    "- One parameter: probability of success p.\n",
    "**Explanation:** It models one trial of a binary experiment. Mean = p, Variance = p(1 - p)."
   ]
  },
  {
   "cell_type": "markdown",
   "id": "22b83bcd",
   "metadata": {},
   "source": [
    "### 8. What is the binomial distribution, and how is it used?\n",
    "**Answer:**\n",
    "It represents the number of successes in n independent Bernoulli trials.\n",
    "**Explanation:** For example, if you toss a coin 10 times and count the heads, that follows a binomial distribution."
   ]
  },
  {
   "cell_type": "markdown",
   "id": "a53175df",
   "metadata": {},
   "source": [
    "### 9. What is the Poisson distribution and where is it applied?\n",
    "**Answer:**\n",
    "It models the number of times an event occurs in a fixed interval of time or space.\n",
    "**Explanation:** Used for rare events like phone calls to a center or emails received per hour."
   ]
  },
  {
   "cell_type": "markdown",
   "id": "424a1a5d",
   "metadata": {},
   "source": [
    "### 10. What is a continuous uniform distribution?\n",
    "**Answer:**\n",
    "All values in a continuous range [a, b] have equal probability density.\n",
    "**Explanation:** It's the continuous version of the discrete uniform distribution. PDF = 1 / (b - a)."
   ]
  },
  {
   "cell_type": "markdown",
   "id": "a9d93d1a",
   "metadata": {},
   "source": [
    "### 11. What are the characteristics of a normal distribution?\n",
    "**Answer:**\n",
    "- Symmetric, bell-shaped curve.\n",
    "- Mean = median = mode.\n",
    "**Explanation:** The standard deviation determines the spread. Most natural phenomena follow this distribution (e.g., heights, IQ scores)."
   ]
  },
  {
   "cell_type": "markdown",
   "id": "1881bdbd",
   "metadata": {},
   "source": [
    "### 12. What is the standard normal distribution, and why is it important?\n",
    "**Answer:**\n",
    "A special case of the normal distribution with mean 0 and standard deviation 1.\n",
    "**Explanation:** It’s used in Z-score calculations and standardizing data for comparison."
   ]
  },
  {
   "cell_type": "markdown",
   "id": "1e9451bf",
   "metadata": {},
   "source": [
    "### 13. What is the Central Limit Theorem (CLT), and why is it important?\n",
    "**Answer:**\n",
    "CLT states that the distribution of sample means approaches a normal distribution as the sample size increases, regardless of the original distribution.\n",
    "**Explanation:** It allows us to apply normal-based inference even on non-normal populations, provided the sample size is large enough."
   ]
  },
  {
   "cell_type": "markdown",
   "id": "06e73a35",
   "metadata": {},
   "source": [
    "### 14. How does the Central Limit Theorem relate to the normal distribution?\n",
    "**Answer:**\n",
    "It justifies the use of normal distribution for sample means when sample sizes are large.\n",
    "**Explanation:** Even if data is skewed, sample means become approximately normal."
   ]
  },
  {
   "cell_type": "markdown",
   "id": "f821f42d",
   "metadata": {},
   "source": [
    "### 15. What is the application of Z-statistics in hypothesis testing?\n",
    "**Answer:**\n",
    "Z-statistics are used to compare a sample mean to a known population mean when population standard deviation is known.\n",
    "**Explanation:** It helps determine how extreme a sample result is, under the assumption that the null hypothesis is true."
   ]
  },
  {
   "cell_type": "markdown",
   "id": "6111bc4a",
   "metadata": {},
   "source": [
    "### 16. How do you calculate a Z-score, and what does it represent?\n",
    "**Answer:**\n",
    "Z = (X - μ) / σ\n",
    "**Explanation:** It tells how many standard deviations a value X is from the mean μ. It helps in standardizing and comparing scores."
   ]
  },
  {
   "cell_type": "markdown",
   "id": "7bf4dca9",
   "metadata": {},
   "source": [
    "### 17. What are point estimates and interval estimates?\n",
    "**Answer:**\n",
    "- Point estimate: A single value that estimates a population parameter (e.g., sample mean).\n",
    "- Interval estimate: A range of values, typically a confidence interval.\n",
    "**Explanation:** Point estimates give no information about precision, while interval estimates do."
   ]
  },
  {
   "cell_type": "markdown",
   "id": "caf7d5b3",
   "metadata": {},
   "source": [
    "### 18. What is the significance of confidence intervals in statistical analysis?\n",
    "**Answer:**\n",
    "They give a range where the true population parameter is likely to fall with a given level of confidence.\n",
    "**Explanation:** For example, a 95% confidence interval means that 95 out of 100 such intervals will contain the true mean."
   ]
  },
  {
   "cell_type": "markdown",
   "id": "8d0bd370",
   "metadata": {},
   "source": [
    "### 19. What is the relationship between a Z-score and a confidence interval?\n",
    "**Answer:**\n",
    "Z-scores determine the margin of error in a confidence interval when the standard deviation is known.\n",
    "**Explanation:** For a 95% confidence level, the Z-score is 1.96, which defines the bounds around the sample mean."
   ]
  },
  {
   "cell_type": "markdown",
   "id": "daae4a72",
   "metadata": {},
   "source": [
    "### 20. How are Z-scores used to compare different distributions?\n",
    "**Answer:**\n",
    "Z-scores normalize values, enabling comparison across different scales.\n",
    "**Explanation:** A Z-score of 2 in both test scores and heights indicates the value is two standard deviations above the mean."
   ]
  },
  {
   "cell_type": "markdown",
   "id": "67dc06c1",
   "metadata": {},
   "source": [
    "### 21. What are the assumptions for applying the Central Limit Theorem?\n",
    "**Answer:**\n",
    "- Samples are random and independent.\n",
    "- Sample size is sufficiently large (usually n ≥ 30).\n",
    "**Explanation:** These ensure that the sampling distribution of the mean becomes approximately normal."
   ]
  },
  {
   "cell_type": "markdown",
   "id": "b037b390",
   "metadata": {},
   "source": [
    "### 22. What is the concept of expected value in a probability distribution?\n",
    "**Answer:**\n",
    "It is the theoretical average of a random variable over infinite trials.\n",
    "**Explanation:** For a die roll, the expected value is (1+2+3+4+5+6)/6 = 3.5."
   ]
  },
  {
   "cell_type": "markdown",
   "id": "22c4e5cb",
   "metadata": {},
   "source": [
    "### 23. How does a probability distribution relate to the expected outcome of a random variable?\n",
    "**Answer:**\n",
    "The probability distribution defines how likely each value is, and the expected value is the weighted average of all outcomes.\n",
    "**Explanation:** It predicts the long-term average if the experiment is repeated many times."
   ]
  }
 ],
 "metadata": {},
 "nbformat": 4,
 "nbformat_minor": 5
}
